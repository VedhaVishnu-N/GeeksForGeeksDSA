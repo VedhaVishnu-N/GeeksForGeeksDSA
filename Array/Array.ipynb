{
 "cells": [
  {
   "cell_type": "markdown",
   "metadata": {},
   "source": [
    "# Data Structures and Algorithm"
   ]
  },
  {
   "cell_type": "markdown",
   "metadata": {},
   "source": [
    "## ARRAY"
   ]
  },
  {
   "cell_type": "markdown",
   "metadata": {},
   "source": [
    "-An array is an linear and simplest data structure \n",
    "-in which datas are stored in contiguos memory location and they are linear\n",
    "-every element in the array can be accessed by index values \n",
    "-in array index values start from zero and goes till length of the array"
   ]
  },
  {
   "cell_type": "markdown",
   "metadata": {},
   "source": [
    "### Types of array"
   ]
  },
  {
   "cell_type": "markdown",
   "metadata": {},
   "source": [
    "-array can be classified into different types based on their size and dimension.it can be"
   ]
  },
  {
   "cell_type": "markdown",
   "metadata": {},
   "source": [
    "-single dimensional array\n",
    "-multi dimensional array\n",
    "-fixed array\n",
    "-dynamic array"
   ]
  },
  {
   "cell_type": "markdown",
   "metadata": {},
   "source": [
    "In python arrays are not fixed their size can be changed as will with either in build function or our own function"
   ]
  },
  {
   "cell_type": "markdown",
   "metadata": {},
   "source": [
    "### Declaration of array from module"
   ]
  },
  {
   "cell_type": "code",
   "execution_count": 3,
   "metadata": {},
   "outputs": [],
   "source": [
    "#importing array\n",
    "from array import array\n",
    "arr = array('i')"
   ]
  },
  {
   "cell_type": "markdown",
   "metadata": {},
   "source": [
    "here array is imported from array module it is same as list have every function but in array we can only store values of same data types"
   ]
  },
  {
   "cell_type": "markdown",
   "metadata": {},
   "source": [
    "### Initializing an array"
   ]
  },
  {
   "cell_type": "code",
   "execution_count": 4,
   "metadata": {},
   "outputs": [],
   "source": [
    "#initializing array\n",
    "arr = array('i',[1,2,3,4,5])"
   ]
  },
  {
   "cell_type": "markdown",
   "metadata": {},
   "source": [
    "### Traversal in an array"
   ]
  },
  {
   "cell_type": "markdown",
   "metadata": {},
   "source": [
    "Traversing is an operation on array in which we don't make change into the array but we visit every element in the array"
   ]
  },
  {
   "cell_type": "code",
   "execution_count": 7,
   "metadata": {},
   "outputs": [
    {
     "name": "stdout",
     "output_type": "stream",
     "text": [
      "1 2 3 4 5 "
     ]
    }
   ],
   "source": [
    "# to traverse through an array (we have to vist every element in the array)\n",
    "def traversal(arr):\n",
    "    for i in range(len(arr)):\n",
    "        print(arr[i],end=\" \")\n",
    "\n",
    "traversal(arr)"
   ]
  },
  {
   "cell_type": "markdown",
   "metadata": {},
   "source": [
    "### Insertion in array"
   ]
  },
  {
   "cell_type": "markdown",
   "metadata": {},
   "source": [
    "to insert an element into an array we need an extra space so we have to append an extra element \n",
    "\n",
    "if we insert at end just insert without making any changes,if we insert at middle or start we need to shift every element to one step right"
   ]
  },
  {
   "cell_type": "code",
   "execution_count": 10,
   "metadata": {},
   "outputs": [
    {
     "name": "stdout",
     "output_type": "stream",
     "text": [
      "[1, 2, 3, 4, 5, 6, 7]\n"
     ]
    }
   ],
   "source": [
    "def insert(arr,pos,n,key):\n",
    "    arr.append(0)\n",
    "    for i in range(n-1,pos-1,-1):\n",
    "        arr[i+1]=arr[i]\n",
    "    arr[pos]=key\n",
    "\n",
    "arr=[1,2,3,5,6,7]\n",
    "insert(arr,3,len(arr),4)\n",
    "print(arr)"
   ]
  },
  {
   "cell_type": "markdown",
   "metadata": {},
   "source": [
    "### Deletion in array"
   ]
  },
  {
   "cell_type": "markdown",
   "metadata": {},
   "source": [
    "same as inserting array but we need to remove an element in given position and change every right element from key element to left "
   ]
  },
  {
   "cell_type": "code",
   "execution_count": 13,
   "metadata": {},
   "outputs": [
    {
     "name": "stdout",
     "output_type": "stream",
     "text": [
      "[1, 2, 3, 5, 6, 7]\n"
     ]
    }
   ],
   "source": [
    "def delete(arr,pos,n):\n",
    "    for i in range(pos,n-1):\n",
    "        arr[i]=arr[i+1]\n",
    "    arr.pop()\n",
    "\n",
    "arr=[1,2,3,4,5,6,7]\n",
    "delete(arr,3,len(arr))\n",
    "print(arr)"
   ]
  },
  {
   "cell_type": "markdown",
   "metadata": {},
   "source": [
    "### Single Dimensional Array"
   ]
  },
  {
   "cell_type": "markdown",
   "metadata": {},
   "source": [
    "it contain only one coloumn and N no. of rows(it is linear)"
   ]
  },
  {
   "cell_type": "code",
   "execution_count": 14,
   "metadata": {},
   "outputs": [
    {
     "name": "stdout",
     "output_type": "stream",
     "text": [
      "[1, 2, 3, 4, 5, 6, 7, 8] it is an single dimensional array\n"
     ]
    }
   ],
   "source": [
    "a=[1,2,3,4,5,6,7,8]\n",
    "print(a,\"it is an single dimensional array\")"
   ]
  },
  {
   "cell_type": "markdown",
   "metadata": {},
   "source": [
    "### Multi Dimensional Array"
   ]
  },
  {
   "cell_type": "markdown",
   "metadata": {},
   "source": [
    "It have more than one dimensional it can be 2 or more dimension it can be represented as matrix"
   ]
  },
  {
   "cell_type": "code",
   "execution_count": 15,
   "metadata": {},
   "outputs": [
    {
     "name": "stdout",
     "output_type": "stream",
     "text": [
      "[[1, 2, 3], [4, 5, 6], [7, 8, 9]] it is an multi dimensional array\n"
     ]
    }
   ],
   "source": [
    "a=[[1,2,3],[4,5,6],[7,8,9]]\n",
    "print(a,\"it is an multi dimensional array-2D\")"
   ]
  },
  {
   "cell_type": "markdown",
   "metadata": {},
   "source": [
    "### Space complexity\n"
   ]
  },
  {
   "cell_type": "markdown",
   "metadata": {},
   "source": [
    "Operations  B   A   W\n",
    "\n",
    "Traversal\t1\t1\t1\n",
    "Insertion\t1\tN\tN\n",
    "Deletion\t1\tN\tN\n",
    "Searching\t1\t1\t1"
   ]
  },
  {
   "cell_type": "markdown",
   "metadata": {},
   "source": [
    "### Time Complexity"
   ]
  },
  {
   "cell_type": "markdown",
   "metadata": {},
   "source": [
    "\n",
    "Operation\tB   A   W\n",
    "\n",
    "Traversal\tN\tN\tN\n",
    "Insertion\t1\tN\tN\n",
    "Deletion\t1\tN\tN\n",
    "Searching\t1\tN\tN"
   ]
  },
  {
   "cell_type": "markdown",
   "metadata": {},
   "source": [
    "## Build in Function "
   ]
  },
  {
   "cell_type": "code",
   "execution_count": 5,
   "metadata": {},
   "outputs": [
    {
     "name": "stdout",
     "output_type": "stream",
     "text": [
      "array('i', [6, 5, 4, 3, 1])\n"
     ]
    }
   ],
   "source": [
    "#Import array\n",
    "from array import array\n",
    "\n",
    "#initializing an array\n",
    "arr = array('i',[1,2,3,4,5])\n",
    "\n",
    "#append an element\n",
    "arr.append(6)\n",
    "\n",
    "#insert an element into an array\n",
    "arr.insert(6,7)\n",
    "\n",
    "#poping the last element \n",
    "arr.pop()\n",
    "\n",
    "#remove an certain element\n",
    "arr.remove(2)\n",
    "\n",
    "#returning index of certain element\n",
    "arr.index(3)\n",
    "\n",
    "#counting no. of element present which is same as given element\n",
    "arr.count(3)\n",
    "\n",
    "#reversing the array\n",
    "arr.reverse()\n",
    "\n",
    "#change into list\n",
    "arr.tolist()\n",
    "\n",
    "print(arr)"
   ]
  },
  {
   "cell_type": "code",
   "execution_count": null,
   "metadata": {},
   "outputs": [],
   "source": []
  }
 ],
 "metadata": {
  "kernelspec": {
   "display_name": "Python 3",
   "language": "python",
   "name": "python3"
  },
  "language_info": {
   "codemirror_mode": {
    "name": "ipython",
    "version": 3
   },
   "file_extension": ".py",
   "mimetype": "text/x-python",
   "name": "python",
   "nbconvert_exporter": "python",
   "pygments_lexer": "ipython3",
   "version": "3.12.4"
  }
 },
 "nbformat": 4,
 "nbformat_minor": 2
}
